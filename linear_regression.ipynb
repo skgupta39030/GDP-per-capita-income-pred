{
 "cells": [
  {
   "cell_type": "code",
   "execution_count": 1,
   "id": "389577d6",
   "metadata": {},
   "outputs": [],
   "source": [
    "import pandas as pd\n",
    "import numpy as np\n",
    "import matplotlib.pyplot as plt"
   ]
  },
  {
   "cell_type": "code",
   "execution_count": 2,
   "id": "bebb6365-3780-4871-b486-9f4d053413d2",
   "metadata": {},
   "outputs": [],
   "source": [
    "from sklearn import linear_model"
   ]
  },
  {
   "cell_type": "code",
   "execution_count": 6,
   "id": "fb576a31-223a-4062-86b5-1d75951cf44e",
   "metadata": {},
   "outputs": [
    {
     "data": {
      "text/html": [
       "<div>\n",
       "<style scoped>\n",
       "    .dataframe tbody tr th:only-of-type {\n",
       "        vertical-align: middle;\n",
       "    }\n",
       "\n",
       "    .dataframe tbody tr th {\n",
       "        vertical-align: top;\n",
       "    }\n",
       "\n",
       "    .dataframe thead th {\n",
       "        text-align: right;\n",
       "    }\n",
       "</style>\n",
       "<table border=\"1\" class=\"dataframe\">\n",
       "  <thead>\n",
       "    <tr style=\"text-align: right;\">\n",
       "      <th></th>\n",
       "      <th>sdate</th>\n",
       "      <th>GDP Per Capita (US $)</th>\n",
       "      <th>Annual Growth Rate (%)</th>\n",
       "    </tr>\n",
       "  </thead>\n",
       "  <tbody>\n",
       "    <tr>\n",
       "      <th>0</th>\n",
       "      <td>1960-12-31</td>\n",
       "      <td>82.1886</td>\n",
       "      <td>0.00</td>\n",
       "    </tr>\n",
       "    <tr>\n",
       "      <th>1</th>\n",
       "      <td>1961-12-31</td>\n",
       "      <td>85.3543</td>\n",
       "      <td>3.85</td>\n",
       "    </tr>\n",
       "    <tr>\n",
       "      <th>2</th>\n",
       "      <td>1962-12-31</td>\n",
       "      <td>89.8818</td>\n",
       "      <td>5.30</td>\n",
       "    </tr>\n",
       "    <tr>\n",
       "      <th>3</th>\n",
       "      <td>1963-12-31</td>\n",
       "      <td>101.1264</td>\n",
       "      <td>12.51</td>\n",
       "    </tr>\n",
       "    <tr>\n",
       "      <th>4</th>\n",
       "      <td>1964-12-31</td>\n",
       "      <td>115.5375</td>\n",
       "      <td>14.25</td>\n",
       "    </tr>\n",
       "    <tr>\n",
       "      <th>...</th>\n",
       "      <td>...</td>\n",
       "      <td>...</td>\n",
       "      <td>...</td>\n",
       "    </tr>\n",
       "    <tr>\n",
       "      <th>57</th>\n",
       "      <td>2017-12-31</td>\n",
       "      <td>1980.6670</td>\n",
       "      <td>14.32</td>\n",
       "    </tr>\n",
       "    <tr>\n",
       "      <th>58</th>\n",
       "      <td>2018-12-31</td>\n",
       "      <td>1998.2591</td>\n",
       "      <td>0.89</td>\n",
       "    </tr>\n",
       "    <tr>\n",
       "      <th>59</th>\n",
       "      <td>2019-12-31</td>\n",
       "      <td>2072.2449</td>\n",
       "      <td>3.70</td>\n",
       "    </tr>\n",
       "    <tr>\n",
       "      <th>60</th>\n",
       "      <td>2020-12-31</td>\n",
       "      <td>1933.1011</td>\n",
       "      <td>-6.71</td>\n",
       "    </tr>\n",
       "    <tr>\n",
       "      <th>61</th>\n",
       "      <td>2021-12-31</td>\n",
       "      <td>2277.4343</td>\n",
       "      <td>17.81</td>\n",
       "    </tr>\n",
       "  </tbody>\n",
       "</table>\n",
       "<p>62 rows × 3 columns</p>\n",
       "</div>"
      ],
      "text/plain": [
       "         sdate   GDP Per Capita (US $)   Annual Growth Rate (%)\n",
       "0   1960-12-31                 82.1886                     0.00\n",
       "1   1961-12-31                 85.3543                     3.85\n",
       "2   1962-12-31                 89.8818                     5.30\n",
       "3   1963-12-31                101.1264                    12.51\n",
       "4   1964-12-31                115.5375                    14.25\n",
       "..         ...                     ...                      ...\n",
       "57  2017-12-31               1980.6670                    14.32\n",
       "58  2018-12-31               1998.2591                     0.89\n",
       "59  2019-12-31               2072.2449                     3.70\n",
       "60  2020-12-31               1933.1011                    -6.71\n",
       "61  2021-12-31               2277.4343                    17.81\n",
       "\n",
       "[62 rows x 3 columns]"
      ]
     },
     "execution_count": 6,
     "metadata": {},
     "output_type": "execute_result"
    }
   ],
   "source": [
    "df = pd.read_csv(\"../datasets/india-gdp-per-capita.csv\", usecols = ['sdate',' GDP Per Capita (US $)', ' Annual Growth Rate (%)'])\n"
   ]
  },
  {
   "cell_type": "code",
   "execution_count": 9,
   "id": "829950de-d315-4164-af93-31e1fed4cd48",
   "metadata": {},
   "outputs": [
    {
     "data": {
      "text/html": [
       "<div>\n",
       "<style scoped>\n",
       "    .dataframe tbody tr th:only-of-type {\n",
       "        vertical-align: middle;\n",
       "    }\n",
       "\n",
       "    .dataframe tbody tr th {\n",
       "        vertical-align: top;\n",
       "    }\n",
       "\n",
       "    .dataframe thead th {\n",
       "        text-align: right;\n",
       "    }\n",
       "</style>\n",
       "<table border=\"1\" class=\"dataframe\">\n",
       "  <thead>\n",
       "    <tr style=\"text-align: right;\">\n",
       "      <th></th>\n",
       "      <th>Date</th>\n",
       "      <th>GDP Per Capita (US $)</th>\n",
       "      <th>Annual Growth Rate (%)</th>\n",
       "    </tr>\n",
       "  </thead>\n",
       "  <tbody>\n",
       "    <tr>\n",
       "      <th>0</th>\n",
       "      <td>1960-12-31</td>\n",
       "      <td>82.1886</td>\n",
       "      <td>0.00</td>\n",
       "    </tr>\n",
       "    <tr>\n",
       "      <th>1</th>\n",
       "      <td>1961-12-31</td>\n",
       "      <td>85.3543</td>\n",
       "      <td>3.85</td>\n",
       "    </tr>\n",
       "    <tr>\n",
       "      <th>2</th>\n",
       "      <td>1962-12-31</td>\n",
       "      <td>89.8818</td>\n",
       "      <td>5.30</td>\n",
       "    </tr>\n",
       "    <tr>\n",
       "      <th>3</th>\n",
       "      <td>1963-12-31</td>\n",
       "      <td>101.1264</td>\n",
       "      <td>12.51</td>\n",
       "    </tr>\n",
       "    <tr>\n",
       "      <th>4</th>\n",
       "      <td>1964-12-31</td>\n",
       "      <td>115.5375</td>\n",
       "      <td>14.25</td>\n",
       "    </tr>\n",
       "  </tbody>\n",
       "</table>\n",
       "</div>"
      ],
      "text/plain": [
       "        Date   GDP Per Capita (US $)   Annual Growth Rate (%)\n",
       "0 1960-12-31                 82.1886                     0.00\n",
       "1 1961-12-31                 85.3543                     3.85\n",
       "2 1962-12-31                 89.8818                     5.30\n",
       "3 1963-12-31                101.1264                    12.51\n",
       "4 1964-12-31                115.5375                    14.25"
      ]
     },
     "execution_count": 9,
     "metadata": {},
     "output_type": "execute_result"
    }
   ],
   "source": [
    "df.rename(columns = {'sdate':'Date'}, inplace = True)\n",
    "df['Date'] = pd.to_datetime(df['Date'])\n",
    "df.head()"
   ]
  },
  {
   "cell_type": "code",
   "execution_count": 10,
   "id": "2d54b3b5-28a0-4d25-be34-bd7db4001046",
   "metadata": {},
   "outputs": [
    {
     "name": "stdout",
     "output_type": "stream",
     "text": [
      "<class 'pandas.core.frame.DataFrame'>\n",
      "RangeIndex: 62 entries, 0 to 61\n",
      "Columns: 3 entries, Date to  Annual Growth Rate (%)\n",
      "dtypes: datetime64[ns](1), float64(2)\n",
      "memory usage: 1.6 KB\n"
     ]
    }
   ],
   "source": [
    "df.info(verbose = False, memory_usage=\"deep\")"
   ]
  },
  {
   "cell_type": "code",
   "execution_count": 11,
   "id": "50b898f5-321b-470d-aabd-4b33d2091a67",
   "metadata": {},
   "outputs": [
    {
     "data": {
      "text/html": [
       "<div>\n",
       "<style scoped>\n",
       "    .dataframe tbody tr th:only-of-type {\n",
       "        vertical-align: middle;\n",
       "    }\n",
       "\n",
       "    .dataframe tbody tr th {\n",
       "        vertical-align: top;\n",
       "    }\n",
       "\n",
       "    .dataframe thead th {\n",
       "        text-align: right;\n",
       "    }\n",
       "</style>\n",
       "<table border=\"1\" class=\"dataframe\">\n",
       "  <thead>\n",
       "    <tr style=\"text-align: right;\">\n",
       "      <th></th>\n",
       "      <th>Year</th>\n",
       "      <th>GDP Per Capita (US $)</th>\n",
       "    </tr>\n",
       "  </thead>\n",
       "  <tbody>\n",
       "    <tr>\n",
       "      <th>40</th>\n",
       "      <td>2000</td>\n",
       "      <td>443.3142</td>\n",
       "    </tr>\n",
       "    <tr>\n",
       "      <th>41</th>\n",
       "      <td>2001</td>\n",
       "      <td>451.5730</td>\n",
       "    </tr>\n",
       "    <tr>\n",
       "      <th>42</th>\n",
       "      <td>2002</td>\n",
       "      <td>470.9868</td>\n",
       "    </tr>\n",
       "    <tr>\n",
       "      <th>43</th>\n",
       "      <td>2003</td>\n",
       "      <td>546.7266</td>\n",
       "    </tr>\n",
       "    <tr>\n",
       "      <th>44</th>\n",
       "      <td>2004</td>\n",
       "      <td>627.7742</td>\n",
       "    </tr>\n",
       "    <tr>\n",
       "      <th>45</th>\n",
       "      <td>2005</td>\n",
       "      <td>714.8610</td>\n",
       "    </tr>\n",
       "    <tr>\n",
       "      <th>46</th>\n",
       "      <td>2006</td>\n",
       "      <td>806.7533</td>\n",
       "    </tr>\n",
       "    <tr>\n",
       "      <th>47</th>\n",
       "      <td>2007</td>\n",
       "      <td>1028.3348</td>\n",
       "    </tr>\n",
       "    <tr>\n",
       "      <th>48</th>\n",
       "      <td>2008</td>\n",
       "      <td>998.5223</td>\n",
       "    </tr>\n",
       "    <tr>\n",
       "      <th>49</th>\n",
       "      <td>2009</td>\n",
       "      <td>1101.9608</td>\n",
       "    </tr>\n",
       "    <tr>\n",
       "      <th>50</th>\n",
       "      <td>2010</td>\n",
       "      <td>1357.5637</td>\n",
       "    </tr>\n",
       "    <tr>\n",
       "      <th>51</th>\n",
       "      <td>2011</td>\n",
       "      <td>1458.1041</td>\n",
       "    </tr>\n",
       "    <tr>\n",
       "      <th>52</th>\n",
       "      <td>2012</td>\n",
       "      <td>1443.8824</td>\n",
       "    </tr>\n",
       "    <tr>\n",
       "      <th>53</th>\n",
       "      <td>2013</td>\n",
       "      <td>1449.6105</td>\n",
       "    </tr>\n",
       "    <tr>\n",
       "      <th>54</th>\n",
       "      <td>2014</td>\n",
       "      <td>1573.8856</td>\n",
       "    </tr>\n",
       "    <tr>\n",
       "      <th>55</th>\n",
       "      <td>2015</td>\n",
       "      <td>1605.6054</td>\n",
       "    </tr>\n",
       "    <tr>\n",
       "      <th>56</th>\n",
       "      <td>2016</td>\n",
       "      <td>1732.5542</td>\n",
       "    </tr>\n",
       "    <tr>\n",
       "      <th>57</th>\n",
       "      <td>2017</td>\n",
       "      <td>1980.6670</td>\n",
       "    </tr>\n",
       "    <tr>\n",
       "      <th>58</th>\n",
       "      <td>2018</td>\n",
       "      <td>1998.2591</td>\n",
       "    </tr>\n",
       "    <tr>\n",
       "      <th>59</th>\n",
       "      <td>2019</td>\n",
       "      <td>2072.2449</td>\n",
       "    </tr>\n",
       "    <tr>\n",
       "      <th>60</th>\n",
       "      <td>2020</td>\n",
       "      <td>1933.1011</td>\n",
       "    </tr>\n",
       "    <tr>\n",
       "      <th>61</th>\n",
       "      <td>2021</td>\n",
       "      <td>2277.4343</td>\n",
       "    </tr>\n",
       "  </tbody>\n",
       "</table>\n",
       "</div>"
      ],
      "text/plain": [
       "    Year   GDP Per Capita (US $)\n",
       "40  2000                443.3142\n",
       "41  2001                451.5730\n",
       "42  2002                470.9868\n",
       "43  2003                546.7266\n",
       "44  2004                627.7742\n",
       "45  2005                714.8610\n",
       "46  2006                806.7533\n",
       "47  2007               1028.3348\n",
       "48  2008                998.5223\n",
       "49  2009               1101.9608\n",
       "50  2010               1357.5637\n",
       "51  2011               1458.1041\n",
       "52  2012               1443.8824\n",
       "53  2013               1449.6105\n",
       "54  2014               1573.8856\n",
       "55  2015               1605.6054\n",
       "56  2016               1732.5542\n",
       "57  2017               1980.6670\n",
       "58  2018               1998.2591\n",
       "59  2019               2072.2449\n",
       "60  2020               1933.1011\n",
       "61  2021               2277.4343"
      ]
     },
     "execution_count": 11,
     "metadata": {},
     "output_type": "execute_result"
    }
   ],
   "source": [
    "df['Year'] = df['Date'].dt.year\n",
    "gdp_00 = df[[\"Year\", \" GDP Per Capita (US $)\"]][df['Year'] >= 2000]\n",
    " \n",
    "gdp_00"
   ]
  },
  {
   "cell_type": "code",
   "execution_count": 12,
   "id": "0da53112-f2a0-47e1-a02d-8dfe329397d5",
   "metadata": {},
   "outputs": [
    {
     "name": "stdout",
     "output_type": "stream",
     "text": [
      "<class 'pandas.core.frame.DataFrame'>\n",
      "Int64Index: 22 entries, 40 to 61\n",
      "Columns: 2 entries, Year to  GDP Per Capita (US $)\n",
      "dtypes: float64(1), int64(1)\n",
      "memory usage: 528.0 bytes\n"
     ]
    }
   ],
   "source": [
    "gdp_00.info(verbose = False, memory_usage=\"deep\")"
   ]
  },
  {
   "cell_type": "code",
   "execution_count": 22,
   "id": "9c93879f-5e41-4ca2-96c6-d7d12d09578f",
   "metadata": {},
   "outputs": [
    {
     "data": {
      "text/plain": [
       "dtype('int64')"
      ]
     },
     "execution_count": 22,
     "metadata": {},
     "output_type": "execute_result"
    }
   ],
   "source": [
    "gdp_00['Year'].dtype"
   ]
  },
  {
   "cell_type": "code",
   "execution_count": 16,
   "id": "baab21a3-c94f-44dd-84a4-353e44584e2a",
   "metadata": {},
   "outputs": [
    {
     "data": {
      "text/plain": [
       "Text(0, 0.5, 'per capita income (US$)')"
      ]
     },
     "execution_count": 16,
     "metadata": {},
     "output_type": "execute_result"
    },
    {
     "data": {
      "image/png": "[encoded data removed]",
      "text/plain": [
       "<Figure size 432x288 with 1 Axes>"
      ]
     },
     "metadata": {
      "needs_background": "light"
     },
     "output_type": "display_data"
    }
   ],
   "source": [
    "plt.scatter (gdp_00['Year'] , gdp_00[' GDP Per Capita (US $)'], color = 'green', marker = \"+\" )\n",
    "plt.xlabel('year')\n",
    "plt.ylabel('per capita income (US$)')"
   ]
  },
  {
   "cell_type": "code",
   "execution_count": 18,
   "id": "6be4cf17-44ad-4042-88cc-efe3ab5df283",
   "metadata": {},
   "outputs": [],
   "source": [
    "reg = linear_model.LinearRegression()"
   ]
  },
  {
   "cell_type": "code",
   "execution_count": 19,
   "id": "dc41655e-27f3-4fcc-beb6-cbacf51ef437",
   "metadata": {},
   "outputs": [
    {
     "data": {
      "text/plain": [
       "LinearRegression()"
      ]
     },
     "execution_count": 19,
     "metadata": {},
     "output_type": "execute_result"
    }
   ],
   "source": [
    "reg.fit(gdp_00[['Year']],gdp_00[[' GDP Per Capita (US $)']])"
   ]
  },
  {
   "cell_type": "code",
   "execution_count": 29,
   "id": "4b5ab637-b840-42bd-aee8-96353bb72f86",
   "metadata": {},
   "outputs": [
    {
     "data": {
      "text/plain": [
       "array([[2307.45758831],\n",
       "       [2397.14275686],\n",
       "       [2486.82792541],\n",
       "       [2576.51309396]])"
      ]
     },
     "execution_count": 29,
     "metadata": {},
     "output_type": "execute_result"
    }
   ],
   "source": [
    "reg.predict(np.array([2022,2023,2024,2025]).reshape(-1,1))\n",
    "\n",
    "# m = reg.coef_\n",
    "# c = reg.intercept_\n",
    "# y = m * 2020 + c"
   ]
  },
  {
   "cell_type": "code",
   "execution_count": 45,
   "id": "485159ff-c0a9-490d-9e9b-266499f3f8ee",
   "metadata": {},
   "outputs": [
    {
     "name": "stdout",
     "output_type": "stream",
     "text": [
      "    Year   GDP Per Capita (US $)     pred_gdp\n",
      "40  2000                443.3142   334.383880\n",
      "41  2001                451.5730   424.069049\n",
      "42  2002                470.9868   513.754217\n",
      "43  2003                546.7266   603.439386\n",
      "44  2004                627.7742   693.124554\n",
      "45  2005                714.8610   782.809723\n",
      "46  2006                806.7533   872.494892\n",
      "47  2007               1028.3348   962.180060\n",
      "48  2008                998.5223  1051.865229\n",
      "49  2009               1101.9608  1141.550397\n",
      "50  2010               1357.5637  1231.235566\n",
      "51  2011               1458.1041  1320.920734\n",
      "52  2012               1443.8824  1410.605903\n",
      "53  2013               1449.6105  1500.291071\n",
      "54  2014               1573.8856  1589.976240\n",
      "55  2015               1605.6054  1679.661408\n",
      "56  2016               1732.5542  1769.346577\n",
      "57  2017               1980.6670  1859.031746\n",
      "58  2018               1998.2591  1948.716914\n",
      "59  2019               2072.2449  2038.402083\n",
      "60  2020               1933.1011  2128.087251\n",
      "61  2021               2277.4343  2217.772420\n"
     ]
    }
   ],
   "source": [
    "gdp_00['pred_gdp'] = reg.predict(gdp_00[['Year']])\n",
    "print(gdp_00)"
   ]
  },
  {
   "cell_type": "code",
   "execution_count": 46,
   "id": "7e9dc480-8880-4712-a5f5-93ab492a7f9b",
   "metadata": {},
   "outputs": [
    {
     "name": "stdout",
     "output_type": "stream",
     "text": [
      "<class 'pandas.core.frame.DataFrame'>\n",
      "Int64Index: 22 entries, 40 to 61\n",
      "Columns: 3 entries, Year to pred_gdp\n",
      "dtypes: float64(2), int64(1)\n",
      "memory usage: 704.0 bytes\n"
     ]
    }
   ],
   "source": [
    "gdp_00.info(verbose = False, memory_usage=\"deep\")"
   ]
  },
  {
   "cell_type": "code",
   "execution_count": 34,
   "id": "6bdb1cdc-d14c-4d39-b646-a93e1c2b2c67",
   "metadata": {},
   "outputs": [
    {
     "data": {
      "text/plain": [
       "[<matplotlib.lines.Line2D at 0x21bdfddb9d0>]"
      ]
     },
     "execution_count": 34,
     "metadata": {},
     "output_type": "execute_result"
    },
    {
     "data": {
      "image/png": "[encoded data removed]",
      "text/plain": [
       "<Figure size 432x288 with 1 Axes>"
      ]
     },
     "metadata": {
      "needs_background": "light"
     },
     "output_type": "display_data"
    }
   ],
   "source": [
    "plt.scatter (gdp_00.Year ,gdp_00[' '], color = 'black' )\n",
    "plt.xlabel('year')\n",
    "plt.ylabel('per capita income (US$)')\n",
    "plt.plot(gdp_00.Year , reg.predict(gdp_00[['Year']]) , color='red')"
   ]
  },
  {
   "cell_type": "markdown",
   "id": "75cce383-0c35-4ea2-8c53-c2109e80b4af",
   "metadata": {},
   "source": [
    "<code>Comparison between actual GDP and predicted GDP in respective years</code>"
   ]
  },
  {
   "cell_type": "code",
   "execution_count": 35,
   "id": "1c9eb21b-a023-40d4-8019-6b71f074398d",
   "metadata": {},
   "outputs": [
    {
     "data": {
      "image/png": "[encoded data removed]",
      "text/plain": [
       "<Figure size 432x288 with 1 Axes>"
      ]
     },
     "metadata": {
      "needs_background": "light"
     },
     "output_type": "display_data"
    }
   ],
   "source": [
    "X = gdp_00.Year\n",
    "Actual_gdp = gdp_00.iloc[: , 1]\n",
    "pred_gdp = reg.predict(gdp_00[['Year']])\n",
    "  \n",
    "X_axis = np.arange(len(X))\n",
    "  \n",
    "plt.bar(X_axis- 0.2 , Actual_gdp, 0.4, label = 'Actual_gdp')\n",
    "plt.bar(X_axis + 0.2, pred_gdp, 0.4, label = 'pred_gdp')\n",
    "  \n",
    "plt.xticks(X_axis, X, rotation = (45),  fontsize = 9 )\n",
    "plt.xlabel(\"years\")\n",
    "plt.ylabel(\"GDP (US $)\")\n",
    "plt.title(\"GDP Per Capita Income (US $)\")\n",
    "plt.legend()\n",
    "plt.savefig(\"GDP_pred.png\")\n",
    "plt.show()"
   ]
  },
  {
   "cell_type": "code",
   "execution_count": null,
   "id": "f6e1d681-5345-4481-804b-a1b03668061f",
   "metadata": {},
   "outputs": [],
   "source": []
  },
  {
   "cell_type": "code",
   "execution_count": null,
   "id": "eafeaa77-5027-4b45-b346-6d0a4b82c47d",
   "metadata": {},
   "outputs": [],
   "source": []
  },
  {
   "cell_type": "code",
   "execution_count": null,
   "id": "75975390-7907-4e1a-8184-86c387860212",
   "metadata": {},
   "outputs": [],
   "source": []
  },
  {
   "cell_type": "code",
   "execution_count": null,
   "id": "28235540-d7f4-43d7-a4f0-512622eaf5e7",
   "metadata": {},
   "outputs": [],
   "source": []
  },
  {
   "cell_type": "code",
   "execution_count": null,
   "id": "48c99a54-40d7-4001-8f1f-60c431ddfbc7",
   "metadata": {},
   "outputs": [],
   "source": []
  }
 ],
 "metadata": {
  "kernelspec": {
   "display_name": "Python 3 (ipykernel)",
   "language": "python",
   "name": "python3"
  },
  "language_info": {
   "codemirror_mode": {
    "name": "ipython",
    "version": 3
   },
   "file_extension": ".py",
   "mimetype": "text/x-python",
   "name": "python",
   "nbconvert_exporter": "python",
   "pygments_lexer": "ipython3",
   "version": "3.9.7"
  }
 },
 "nbformat": 4,
 "nbformat_minor": 5
}
